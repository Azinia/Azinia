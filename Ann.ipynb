{
  "nbformat": 4,
  "nbformat_minor": 0,
  "metadata": {
    "colab": {
      "provenance": [],
      "authorship_tag": "ABX9TyN9ylCeBrWTc6GJvBSHWWTe",
      "include_colab_link": true
    },
    "kernelspec": {
      "name": "python3",
      "display_name": "Python 3"
    },
    "language_info": {
      "name": "python"
    }
  },
  "cells": [
    {
      "cell_type": "markdown",
      "metadata": {
        "id": "view-in-github",
        "colab_type": "text"
      },
      "source": [
        "<a href=\"https://colab.research.google.com/github/Azinia/Azinia/blob/main/Ann.ipynb\" target=\"_parent\"><img src=\"https://colab.research.google.com/assets/colab-badge.svg\" alt=\"Open In Colab\"/></a>"
      ]
    },
    {
      "cell_type": "code",
      "execution_count": null,
      "metadata": {
        "id": "2UF0AVAPV0wk"
      },
      "outputs": [],
      "source": [
        "import numpy as np\n",
        "import pandas as pd\n",
        "import tensorflow as tf\n",
        "tf.__version__\n",
        "dataset = pd.read_csv('IT_customer_churn.csv')\n",
        "dataset.head()\n",
        "X = dataset.iloc[:, 3:-1].values\n",
        "y = dataset.iloc[:, -1].values\n",
        "print(X)"
      ]
    },
    {
      "cell_type": "code",
      "source": [
        "print(y)"
      ],
      "metadata": {
        "id": "1M81NLddXA86"
      },
      "execution_count": null,
      "outputs": []
    },
    {
      "cell_type": "code",
      "source": [
        "from sklearn.preprocessing import LabelEncoder\n",
        "le = LabelEncoder()\n",
        "X[:, 2] = le.fit_transform(X[:, 2])\n",
        "categorical_columns = ['categorical_column_name']\n",
        "print(X)"
      ],
      "metadata": {
        "colab": {
          "base_uri": "https://localhost:8080/"
        },
        "id": "9iaZEbaJXEmm",
        "outputId": "4aeaf873-a222-4695-8f1b-ef7164228426"
      },
      "execution_count": 17,
      "outputs": [
        {
          "output_type": "stream",
          "name": "stdout",
          "text": [
            "[['No' 1 0 ... 'Electronic check' 29.85 '29.85']\n",
            " ['No' 34 1 ... 'Mailed check' 56.95 '1889.5']\n",
            " ['No' 2 1 ... 'Mailed check' 53.85 '108.15']\n",
            " ...\n",
            " ['Yes' 11 0 ... 'Electronic check' 29.6 '346.45']\n",
            " ['No' 4 1 ... 'Mailed check' 74.4 '306.6']\n",
            " ['No' 66 1 ... 'Bank transfer (automatic)' 105.65 '6844.5']]\n"
          ]
        }
      ]
    },
    {
      "cell_type": "code",
      "source": [
        "from sklearn.compose import ColumnTransformer\n",
        "from sklearn.preprocessing import OneHotEncoder\n",
        "categorical_column_indices = [0]\n",
        "ct = ColumnTransformer(transformers=[('encoder', OneHotEncoder(), categorical_column_indices)],remainder='passthrough')\n",
        "X = np.array(ct.fit_transform(X))\n",
        "print(X)"
      ],
      "metadata": {
        "id": "wM01x5xzXbOY"
      },
      "execution_count": null,
      "outputs": []
    },
    {
      "cell_type": "code",
      "source": [
        "from sklearn.model_selection import train_test_split\n",
        "X_train, X_test, y_train, y_test = train_test_split(X, y, test_size = 0.2, random_state = 0)"
      ],
      "metadata": {
        "id": "acmY7FQtbgIH"
      },
      "execution_count": 26,
      "outputs": []
    },
    {
      "cell_type": "code",
      "source": [
        "from sklearn.preprocessing import StandardScaler\n",
        "from sklearn.preprocessing import StandardScaler\n",
        "\n",
        "# Assuming X_train and X_test contain both numeric and non-numeric columns\n",
        "numeric_columns = [0, 1, 2]  # Replace with the indices of the numeric columns\n",
        "\n",
        "# Create a StandardScaler object\n",
        "sc = StandardScaler()\n",
        "\n",
        "# Fit the scaler to the training data (only numeric columns) and transform it\n",
        "X_train[:, numeric_columns] = sc.fit_transform(X_train[:, numeric_columns])\n",
        "\n",
        "# Transform the test data using the same scaler\n",
        "X_test[:, numeric_columns] = sc.transform(X_test[:, numeric_columns])\n"
      ],
      "metadata": {
        "id": "WxUjBK8wbne_"
      },
      "execution_count": 28,
      "outputs": []
    },
    {
      "cell_type": "code",
      "source": [
        "import tensorflow as tf\n",
        "from sklearn.preprocessing import StandardScaler, LabelEncoder\n",
        "\n",
        "# Assuming you have X_train and y_train as NumPy arrays\n",
        "# Exclude non-numeric columns from X_train\n",
        "numeric_column_indices = [0, 1, 2]  # Replace with the indices of your numeric columns\n",
        "X_train = X_train[:, numeric_column_indices]\n",
        "\n",
        "# Convert to float32\n",
        "X_train = X_train.astype('float32')\n",
        "\n",
        "# Create a LabelEncoder for the target variable (y_train)\n",
        "label_encoder = LabelEncoder()\n",
        "y_train = label_encoder.fit_transform(y_train)\n",
        "\n",
        "# Create and compile your model\n",
        "ann = tf.keras.models.Sequential()\n",
        "ann.add(tf.keras.layers.Dense(units=6, activation='relu'))\n",
        "ann.add(tf.keras.layers.Dense(units=6, activation='relu'))\n",
        "ann.add(tf.keras.layers.Dense(units=1, activation='sigmoid'))\n",
        "ann.compile(optimizer='adam', loss='binary_crossentropy', metrics=['accuracy'])\n",
        "\n",
        "# Fit the model\n",
        "ann.fit(X_train, y_train, batch_size=32, epochs=100)\n",
        "\n",
        "\n",
        "\n"
      ],
      "metadata": {
        "colab": {
          "base_uri": "https://localhost:8080/"
        },
        "id": "tfc8IFO8cUK2",
        "outputId": "4ad51063-d127-4b09-f8ed-84d990f8ed99"
      },
      "execution_count": 39,
      "outputs": [
        {
          "output_type": "stream",
          "name": "stdout",
          "text": [
            "Epoch 1/100\n",
            "177/177 [==============================] - 2s 2ms/step - loss: 0.6220 - accuracy: 0.6535\n",
            "Epoch 2/100\n",
            "177/177 [==============================] - 0s 2ms/step - loss: 0.5407 - accuracy: 0.7346\n",
            "Epoch 3/100\n",
            "177/177 [==============================] - 0s 2ms/step - loss: 0.5093 - accuracy: 0.7584\n",
            "Epoch 4/100\n",
            "177/177 [==============================] - 0s 2ms/step - loss: 0.5012 - accuracy: 0.7568\n",
            "Epoch 5/100\n",
            "177/177 [==============================] - 0s 2ms/step - loss: 0.4996 - accuracy: 0.7588\n",
            "Epoch 6/100\n",
            "177/177 [==============================] - 0s 1ms/step - loss: 0.4992 - accuracy: 0.7559\n",
            "Epoch 7/100\n",
            "177/177 [==============================] - 0s 1ms/step - loss: 0.4990 - accuracy: 0.7581\n",
            "Epoch 8/100\n",
            "177/177 [==============================] - 0s 2ms/step - loss: 0.4988 - accuracy: 0.7570\n",
            "Epoch 9/100\n",
            "177/177 [==============================] - 0s 1ms/step - loss: 0.4983 - accuracy: 0.7590\n",
            "Epoch 10/100\n",
            "177/177 [==============================] - 0s 1ms/step - loss: 0.4983 - accuracy: 0.7579\n",
            "Epoch 11/100\n",
            "177/177 [==============================] - 0s 2ms/step - loss: 0.4983 - accuracy: 0.7565\n",
            "Epoch 12/100\n",
            "177/177 [==============================] - 0s 2ms/step - loss: 0.4980 - accuracy: 0.7577\n",
            "Epoch 13/100\n",
            "177/177 [==============================] - 0s 2ms/step - loss: 0.4981 - accuracy: 0.7584\n",
            "Epoch 14/100\n",
            "177/177 [==============================] - 0s 2ms/step - loss: 0.4979 - accuracy: 0.7579\n",
            "Epoch 15/100\n",
            "177/177 [==============================] - 0s 2ms/step - loss: 0.4974 - accuracy: 0.7590\n",
            "Epoch 16/100\n",
            "177/177 [==============================] - 0s 1ms/step - loss: 0.4973 - accuracy: 0.7567\n",
            "Epoch 17/100\n",
            "177/177 [==============================] - 0s 2ms/step - loss: 0.4973 - accuracy: 0.7554\n",
            "Epoch 18/100\n",
            "177/177 [==============================] - 0s 3ms/step - loss: 0.4973 - accuracy: 0.7535\n",
            "Epoch 19/100\n",
            "177/177 [==============================] - 0s 2ms/step - loss: 0.4972 - accuracy: 0.7588\n",
            "Epoch 20/100\n",
            "177/177 [==============================] - 0s 2ms/step - loss: 0.4973 - accuracy: 0.7572\n",
            "Epoch 21/100\n",
            "177/177 [==============================] - 0s 3ms/step - loss: 0.4970 - accuracy: 0.7581\n",
            "Epoch 22/100\n",
            "177/177 [==============================] - 0s 3ms/step - loss: 0.4971 - accuracy: 0.7563\n",
            "Epoch 23/100\n",
            "177/177 [==============================] - 0s 2ms/step - loss: 0.4968 - accuracy: 0.7599\n",
            "Epoch 24/100\n",
            "177/177 [==============================] - 0s 2ms/step - loss: 0.4967 - accuracy: 0.7559\n",
            "Epoch 25/100\n",
            "177/177 [==============================] - 0s 2ms/step - loss: 0.4971 - accuracy: 0.7568\n",
            "Epoch 26/100\n",
            "177/177 [==============================] - 0s 2ms/step - loss: 0.4970 - accuracy: 0.7579\n",
            "Epoch 27/100\n",
            "177/177 [==============================] - 0s 2ms/step - loss: 0.4965 - accuracy: 0.7579\n",
            "Epoch 28/100\n",
            "177/177 [==============================] - 0s 2ms/step - loss: 0.4970 - accuracy: 0.7574\n",
            "Epoch 29/100\n",
            "177/177 [==============================] - 0s 1ms/step - loss: 0.4968 - accuracy: 0.7597\n",
            "Epoch 30/100\n",
            "177/177 [==============================] - 0s 2ms/step - loss: 0.4968 - accuracy: 0.7579\n",
            "Epoch 31/100\n",
            "177/177 [==============================] - 0s 1ms/step - loss: 0.4966 - accuracy: 0.7581\n",
            "Epoch 32/100\n",
            "177/177 [==============================] - 0s 1ms/step - loss: 0.4967 - accuracy: 0.7586\n",
            "Epoch 33/100\n",
            "177/177 [==============================] - 0s 1ms/step - loss: 0.4968 - accuracy: 0.7579\n",
            "Epoch 34/100\n",
            "177/177 [==============================] - 0s 2ms/step - loss: 0.4967 - accuracy: 0.7588\n",
            "Epoch 35/100\n",
            "177/177 [==============================] - 0s 2ms/step - loss: 0.4968 - accuracy: 0.7597\n",
            "Epoch 36/100\n",
            "177/177 [==============================] - 0s 2ms/step - loss: 0.4968 - accuracy: 0.7558\n",
            "Epoch 37/100\n",
            "177/177 [==============================] - 0s 2ms/step - loss: 0.4967 - accuracy: 0.7579\n",
            "Epoch 38/100\n",
            "177/177 [==============================] - 0s 2ms/step - loss: 0.4968 - accuracy: 0.7574\n",
            "Epoch 39/100\n",
            "177/177 [==============================] - 0s 3ms/step - loss: 0.4970 - accuracy: 0.7575\n",
            "Epoch 40/100\n",
            "177/177 [==============================] - 0s 2ms/step - loss: 0.4970 - accuracy: 0.7568\n",
            "Epoch 41/100\n",
            "177/177 [==============================] - 1s 3ms/step - loss: 0.4969 - accuracy: 0.7575\n",
            "Epoch 42/100\n",
            "177/177 [==============================] - 0s 2ms/step - loss: 0.4970 - accuracy: 0.7584\n",
            "Epoch 43/100\n",
            "177/177 [==============================] - 0s 2ms/step - loss: 0.4968 - accuracy: 0.7583\n",
            "Epoch 44/100\n",
            "177/177 [==============================] - 0s 2ms/step - loss: 0.4970 - accuracy: 0.7583\n",
            "Epoch 45/100\n",
            "177/177 [==============================] - 0s 2ms/step - loss: 0.4968 - accuracy: 0.7579\n",
            "Epoch 46/100\n",
            "177/177 [==============================] - 0s 2ms/step - loss: 0.4969 - accuracy: 0.7572\n",
            "Epoch 47/100\n",
            "177/177 [==============================] - 0s 2ms/step - loss: 0.4969 - accuracy: 0.7609\n",
            "Epoch 48/100\n",
            "177/177 [==============================] - 0s 2ms/step - loss: 0.4966 - accuracy: 0.7590\n",
            "Epoch 49/100\n",
            "177/177 [==============================] - 0s 2ms/step - loss: 0.4967 - accuracy: 0.7584\n",
            "Epoch 50/100\n",
            "177/177 [==============================] - 0s 1ms/step - loss: 0.4966 - accuracy: 0.7583\n",
            "Epoch 51/100\n",
            "177/177 [==============================] - 0s 2ms/step - loss: 0.4970 - accuracy: 0.7556\n",
            "Epoch 52/100\n",
            "177/177 [==============================] - 0s 2ms/step - loss: 0.4965 - accuracy: 0.7583\n",
            "Epoch 53/100\n",
            "177/177 [==============================] - 0s 2ms/step - loss: 0.4968 - accuracy: 0.7581\n",
            "Epoch 54/100\n",
            "177/177 [==============================] - 0s 2ms/step - loss: 0.4966 - accuracy: 0.7584\n",
            "Epoch 55/100\n",
            "177/177 [==============================] - 0s 2ms/step - loss: 0.4968 - accuracy: 0.7577\n",
            "Epoch 56/100\n",
            "177/177 [==============================] - 0s 2ms/step - loss: 0.4968 - accuracy: 0.7570\n",
            "Epoch 57/100\n",
            "177/177 [==============================] - 0s 3ms/step - loss: 0.4965 - accuracy: 0.7591\n",
            "Epoch 58/100\n",
            "177/177 [==============================] - 1s 3ms/step - loss: 0.4965 - accuracy: 0.7590\n",
            "Epoch 59/100\n",
            "177/177 [==============================] - 0s 3ms/step - loss: 0.4964 - accuracy: 0.7577\n",
            "Epoch 60/100\n",
            "177/177 [==============================] - 0s 2ms/step - loss: 0.4965 - accuracy: 0.7599\n",
            "Epoch 61/100\n",
            "177/177 [==============================] - 0s 3ms/step - loss: 0.4966 - accuracy: 0.7575\n",
            "Epoch 62/100\n",
            "177/177 [==============================] - 0s 2ms/step - loss: 0.4966 - accuracy: 0.7568\n",
            "Epoch 63/100\n",
            "177/177 [==============================] - 0s 2ms/step - loss: 0.4965 - accuracy: 0.7577\n",
            "Epoch 64/100\n",
            "177/177 [==============================] - 0s 2ms/step - loss: 0.4965 - accuracy: 0.7590\n",
            "Epoch 65/100\n",
            "177/177 [==============================] - 0s 2ms/step - loss: 0.4967 - accuracy: 0.7579\n",
            "Epoch 66/100\n",
            "177/177 [==============================] - 0s 2ms/step - loss: 0.4966 - accuracy: 0.7577\n",
            "Epoch 67/100\n",
            "177/177 [==============================] - 0s 2ms/step - loss: 0.4964 - accuracy: 0.7581\n",
            "Epoch 68/100\n",
            "177/177 [==============================] - 0s 2ms/step - loss: 0.4966 - accuracy: 0.7579\n",
            "Epoch 69/100\n",
            "177/177 [==============================] - 0s 2ms/step - loss: 0.4965 - accuracy: 0.7588\n",
            "Epoch 70/100\n",
            "177/177 [==============================] - 0s 2ms/step - loss: 0.4965 - accuracy: 0.7595\n",
            "Epoch 71/100\n",
            "177/177 [==============================] - 0s 2ms/step - loss: 0.4969 - accuracy: 0.7584\n",
            "Epoch 72/100\n",
            "177/177 [==============================] - 0s 2ms/step - loss: 0.4968 - accuracy: 0.7588\n",
            "Epoch 73/100\n",
            "177/177 [==============================] - 0s 2ms/step - loss: 0.4964 - accuracy: 0.7561\n",
            "Epoch 74/100\n",
            "177/177 [==============================] - 0s 2ms/step - loss: 0.4966 - accuracy: 0.7574\n",
            "Epoch 75/100\n",
            "177/177 [==============================] - 0s 2ms/step - loss: 0.4961 - accuracy: 0.7595\n",
            "Epoch 76/100\n",
            "177/177 [==============================] - 0s 2ms/step - loss: 0.4966 - accuracy: 0.7586\n",
            "Epoch 77/100\n",
            "177/177 [==============================] - 0s 2ms/step - loss: 0.4964 - accuracy: 0.7588\n",
            "Epoch 78/100\n",
            "177/177 [==============================] - 0s 2ms/step - loss: 0.4966 - accuracy: 0.7609\n",
            "Epoch 79/100\n",
            "177/177 [==============================] - 0s 2ms/step - loss: 0.4963 - accuracy: 0.7570\n",
            "Epoch 80/100\n",
            "177/177 [==============================] - 0s 2ms/step - loss: 0.4964 - accuracy: 0.7586\n",
            "Epoch 81/100\n",
            "177/177 [==============================] - 0s 2ms/step - loss: 0.4962 - accuracy: 0.7570\n",
            "Epoch 82/100\n",
            "177/177 [==============================] - 0s 2ms/step - loss: 0.4967 - accuracy: 0.7577\n",
            "Epoch 83/100\n",
            "177/177 [==============================] - 0s 2ms/step - loss: 0.4965 - accuracy: 0.7590\n",
            "Epoch 84/100\n",
            "177/177 [==============================] - 0s 2ms/step - loss: 0.4964 - accuracy: 0.7577\n",
            "Epoch 85/100\n",
            "177/177 [==============================] - 0s 2ms/step - loss: 0.4966 - accuracy: 0.7579\n",
            "Epoch 86/100\n",
            "177/177 [==============================] - 0s 2ms/step - loss: 0.4964 - accuracy: 0.7579\n",
            "Epoch 87/100\n",
            "177/177 [==============================] - 0s 2ms/step - loss: 0.4963 - accuracy: 0.7568\n",
            "Epoch 88/100\n",
            "177/177 [==============================] - 0s 2ms/step - loss: 0.4963 - accuracy: 0.7572\n",
            "Epoch 89/100\n",
            "177/177 [==============================] - 0s 2ms/step - loss: 0.4967 - accuracy: 0.7577\n",
            "Epoch 90/100\n",
            "177/177 [==============================] - 0s 1ms/step - loss: 0.4965 - accuracy: 0.7586\n",
            "Epoch 91/100\n",
            "177/177 [==============================] - 0s 2ms/step - loss: 0.4967 - accuracy: 0.7591\n",
            "Epoch 92/100\n",
            "177/177 [==============================] - 0s 2ms/step - loss: 0.4965 - accuracy: 0.7591\n",
            "Epoch 93/100\n",
            "177/177 [==============================] - 0s 2ms/step - loss: 0.4965 - accuracy: 0.7559\n",
            "Epoch 94/100\n",
            "177/177 [==============================] - 0s 2ms/step - loss: 0.4965 - accuracy: 0.7588\n",
            "Epoch 95/100\n",
            "177/177 [==============================] - 0s 2ms/step - loss: 0.4962 - accuracy: 0.7574\n",
            "Epoch 96/100\n",
            "177/177 [==============================] - 0s 2ms/step - loss: 0.4965 - accuracy: 0.7579\n",
            "Epoch 97/100\n",
            "177/177 [==============================] - 0s 3ms/step - loss: 0.4963 - accuracy: 0.7559\n",
            "Epoch 98/100\n",
            "177/177 [==============================] - 0s 3ms/step - loss: 0.4964 - accuracy: 0.7586\n",
            "Epoch 99/100\n",
            "177/177 [==============================] - 0s 2ms/step - loss: 0.4967 - accuracy: 0.7583\n",
            "Epoch 100/100\n",
            "177/177 [==============================] - 0s 3ms/step - loss: 0.4964 - accuracy: 0.7583\n"
          ]
        },
        {
          "output_type": "execute_result",
          "data": {
            "text/plain": [
              "<keras.src.callbacks.History at 0x7f7511951120>"
            ]
          },
          "metadata": {},
          "execution_count": 39
        }
      ]
    },
    {
      "cell_type": "code",
      "source": [],
      "metadata": {
        "id": "YfLwzqc6f-iC"
      },
      "execution_count": null,
      "outputs": []
    }
  ]
}